{
 "cells": [
  {
   "cell_type": "code",
   "execution_count": 3,
   "id": "fe0b8178",
   "metadata": {},
   "outputs": [],
   "source": [
    "from numba import njit\n",
    "import numpy as np"
   ]
  },
  {
   "cell_type": "code",
   "execution_count": 29,
   "id": "6a4b709e",
   "metadata": {},
   "outputs": [],
   "source": [
    "qF = np.array([1,2]).reshape(2,1)"
   ]
  },
  {
   "cell_type": "code",
   "execution_count": 32,
   "id": "b5a192cd",
   "metadata": {},
   "outputs": [
    {
     "data": {
      "text/plain": [
       "array([[1, 2],\n",
       "       [2, 4]])"
      ]
     },
     "execution_count": 32,
     "metadata": {},
     "output_type": "execute_result"
    }
   ],
   "source": [
    "a = qF@qF.T\n",
    "a"
   ]
  },
  {
   "cell_type": "code",
   "execution_count": 33,
   "id": "3bbcb356",
   "metadata": {},
   "outputs": [],
   "source": [
    "Hij = np.linspace(1,12,12).reshape(2,2,3)"
   ]
  },
  {
   "cell_type": "code",
   "execution_count": 34,
   "id": "879533d9",
   "metadata": {},
   "outputs": [
    {
     "data": {
      "text/plain": [
       "array([[[ 1.,  2.,  3.],\n",
       "        [ 4.,  5.,  6.]],\n",
       "\n",
       "       [[ 7.,  8.,  9.],\n",
       "        [10., 11., 12.]]])"
      ]
     },
     "execution_count": 34,
     "metadata": {},
     "output_type": "execute_result"
    }
   ],
   "source": [
    "Hij"
   ]
  },
  {
   "cell_type": "code",
   "execution_count": 35,
   "id": "5b77818c",
   "metadata": {},
   "outputs": [
    {
     "data": {
      "text/plain": [
       "array([63., 72., 81.])"
      ]
     },
     "execution_count": 35,
     "metadata": {},
     "output_type": "execute_result"
    }
   ],
   "source": [
    "np.einsum(\"ijk,ij->k\",Hij,a)"
   ]
  },
  {
   "cell_type": "code",
   "execution_count": null,
   "id": "116c70d6",
   "metadata": {},
   "outputs": [],
   "source": []
  }
 ],
 "metadata": {
  "kernelspec": {
   "display_name": "Python 3 (ipykernel)",
   "language": "python",
   "name": "python3"
  },
  "language_info": {
   "codemirror_mode": {
    "name": "ipython",
    "version": 3
   },
   "file_extension": ".py",
   "mimetype": "text/x-python",
   "name": "python",
   "nbconvert_exporter": "python",
   "pygments_lexer": "ipython3",
   "version": "3.8.8"
  }
 },
 "nbformat": 4,
 "nbformat_minor": 5
}
